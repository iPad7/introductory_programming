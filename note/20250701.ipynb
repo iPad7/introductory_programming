{
 "cells": [
  {
   "cell_type": "markdown",
   "id": "a0f62ea6",
   "metadata": {},
   "source": [
    "# 2025.07.01. (TUE)"
   ]
  },
  {
   "cell_type": "markdown",
   "id": "04792adb",
   "metadata": {},
   "source": [
    "## HTML/CSS"
   ]
  },
  {
   "cell_type": "markdown",
   "id": "ed4c31ec",
   "metadata": {},
   "source": [
    "### HTML(HyperText Markup Language)\n",
    "\n",
    "* Programming Language for Web Page\n",
    "\n",
    "* -> w/ CSS, JavaScript\n",
    "\n",
    "* MarkUp\n",
    "\n",
    "    * to notify what contents actually stand for\n",
    "\n",
    "    * semantic markup"
   ]
  },
  {
   "cell_type": "markdown",
   "id": "88b0f4cd",
   "metadata": {},
   "source": [
    "### FLUENT GRAMMAR\n",
    "\n",
    "```html\n",
    "<tag>content</tag>\n",
    "<tag>\n",
    "<tag attribute='value'>content</tag>\n",
    "```\n",
    "\n",
    "```html\n",
    "<h1>TITLE: HTML</h1>\n",
    "</br>\n",
    "<img src='tree.png'>\n",
    "```"
   ]
  },
  {
   "cell_type": "markdown",
   "id": "a0e460e8",
   "metadata": {},
   "source": [
    "### Hierarchical Structure\n",
    "\n",
    "```html\n",
    "<section>   'root tag'\n",
    "  <ul>\n",
    "    <li>Apple</li>\n",
    "    <li>Banana</li>\n",
    "    <li>Strawberry</li>\n",
    "  </ul>\n",
    "</section>"
   ]
  },
  {
   "cell_type": "markdown",
   "id": "a67d52c3",
   "metadata": {},
   "source": [
    "### Requirements_VSCode\n",
    "\n",
    "* Live Server(Ritwick Dey)\n",
    "\n",
    "* Lorem Ipsum(Daniel Imms)\n",
    "\n",
    "* Auto Rename Tag(Jun Han)"
   ]
  },
  {
   "cell_type": "markdown",
   "id": "f980d4ef",
   "metadata": {},
   "source": [
    "### Head\n",
    "\n",
    "* title\n",
    "\n",
    "* meta\n",
    "\n",
    "* link\n",
    "\n",
    "* stype\n",
    "\n",
    "* script"
   ]
  },
  {
   "cell_type": "markdown",
   "id": "a70f8481",
   "metadata": {},
   "source": [
    "### Body\n",
    "\n",
    "* Main contents"
   ]
  },
  {
   "cell_type": "markdown",
   "id": "ab151abc",
   "metadata": {},
   "source": [
    "### Tags\n",
    "\n",
    "* `<!-- comment -->`\n",
    "\n",
    "* `<hX>`\n",
    "\n",
    "* `<br>`\n",
    "\n",
    "* `<p>`\n",
    "\n",
    "* `<b>`, `<strong>`\n",
    "\n",
    "* `<i>`, `<em>`"
   ]
  },
  {
   "cell_type": "markdown",
   "id": "45ce3f0d",
   "metadata": {},
   "source": [
    "### Link, Image\n",
    "\n",
    "* Hyperlink\n",
    "    * `<a href='url'>`context|iage`</a>`\n",
    "    * when searching in the same domain, full path omit ok\n",
    "\n",
    "* Image\n",
    "    * `<img src='url', alt='caption'>`"
   ]
  },
  {
   "cell_type": "markdown",
   "id": "0978a047",
   "metadata": {
    "vscode": {
     "languageId": "plaintext"
    }
   },
   "source": [
    "#### Link\n",
    "\n",
    "* `https://` \n",
    "\n",
    "* `127.0.0.1:5500`\n",
    "\n",
    "* `/css/1_concept_html`"
   ]
  },
  {
   "cell_type": "markdown",
   "id": "61c7477a",
   "metadata": {},
   "source": [
    "### Block: Semantic Tags of HTML5\n",
    "\n",
    "* `<header>`\n",
    "\n",
    "* `<nav>`\n",
    "\n",
    "* `<section>`\n",
    "\n",
    "* `<article>`\n",
    "\n",
    "* `<aside>`\n",
    "\n",
    "* `<footer>`\n",
    "\n",
    "* `<figure>`\n",
    "\n",
    "* It DOES help to search easily."
   ]
  },
  {
   "cell_type": "markdown",
   "id": "8ca41bc0",
   "metadata": {},
   "source": [
    "### CSS(Cascade Style Sheet)\n",
    "\n",
    "* To seperate design from document structure(HTML)"
   ]
  },
  {
   "cell_type": "markdown",
   "id": "ab14d2b8",
   "metadata": {},
   "source": [
    "### To apply CSS to HTML\n",
    "\n",
    "* Inline Style\n",
    "\n",
    "* Internal Style Sheet\n",
    "\n",
    "* External Style Sheet\n",
    "\n",
    "* Priority: Inline - Internal - External"
   ]
  },
  {
   "cell_type": "markdown",
   "id": "8a857336",
   "metadata": {},
   "source": [
    "`h1 {color:blue; font-size:12px;}`\n",
    "\n",
    "* Selector\n",
    "\n",
    "* Declaration(property & value)\n",
    "\n",
    "* comment\n",
    "\n",
    "```css\n",
    "/*\n",
    "This is a comment\n",
    "*/\n",
    "```"
   ]
  },
  {
   "cell_type": "markdown",
   "id": "0871f7ff",
   "metadata": {},
   "source": [
    "### Bootstraop\n",
    "\n",
    "* **Grid System** -> to make layouts for responsive web page.\n",
    "\n",
    "* **12-columns** system.\n",
    "\n",
    "```html\n",
    "<div class=\"row\">\n",
    "  <div class=\"col-4\">4칸</div>\n",
    "  <div class=\"col-8\">8칸</div>\n",
    "</div>\n",
    "```\n",
    "\n",
    "* Breakpoints\n",
    "\n",
    "| Breakpoint  | Prefix     | Minimal Width | e.g.|\n",
    "| --------------- | ---------- | --------- | ------------ |\n",
    "| Extra small     | `col-`     | None      | Smartphone     |\n",
    "| Small           | `col-sm-`  | ≥576px    | Mini Tablet PC  |\n",
    "| Medium          | `col-md-`  | ≥768px    | Tablet PC  |\n",
    "| Large           | `col-lg-`  | ≥992px    | Laptop       |\n",
    "| Extra large     | `col-xl-`  | ≥1200px   | Desktop     |\n",
    "| XXL             | `col-xxl-` | ≥1400px   | Grand Display |"
   ]
  },
  {
   "cell_type": "markdown",
   "id": "dcde2557",
   "metadata": {},
   "source": [
    "## JavaScript\n",
    "\n",
    "* Interpreter Language\n",
    "\n",
    "* No Compile -> JavaScript Engine\n",
    "\n",
    "* Node.js -> not only web but also **standalone environment**"
   ]
  },
  {
   "cell_type": "markdown",
   "id": "86064760",
   "metadata": {
    "vscode": {
     "languageId": "plaintext"
    }
   },
   "source": [
    "### Various Framework\n",
    "\n",
    "* Web Frontend framework(LEGACY)\n",
    "    * jQuery\n",
    "    * React\n",
    "    * Vue.js\n",
    "    * svelte\n",
    "\n",
    "* Backend Server application framework\n",
    "    * node.js\n",
    "\n",
    "* Mobile application framework\n",
    "    * React native\n",
    "\n",
    "* Desktop application framework\n",
    "    * Electron"
   ]
  },
  {
   "cell_type": "markdown",
   "id": "a4ac8789",
   "metadata": {},
   "source": [
    "### \\<script\\>\n",
    "\n",
    "```html\n",
    "<script>\n",
    "  document.write(\"안녕하세요\");\n",
    "</script>\n",
    "```"
   ]
  },
  {
   "cell_type": "markdown",
   "id": "d99650d9",
   "metadata": {},
   "source": [
    "### .js file\n",
    "\n",
    "```html\n",
    "<!-- import file -->\n",
    "<!-- no any code between tags below -->\n",
    "<script src='scripts/myscript.js'></script>\n",
    "\n",
    "\n",
    "<script>\n",
    "  //code\n",
    "</script>\n",
    "```"
   ]
  },
  {
   "cell_type": "markdown",
   "id": "8ce0eb99",
   "metadata": {},
   "source": [
    "### Syntax\n",
    "\n",
    "* Comment\n",
    "    * `//`\n",
    "    * `/*` ~ `*/`\n",
    "\n",
    "* Semicolon `;`\n",
    "    * One `;` for a single command.\n",
    "    * command seperator\n",
    "\n",
    "* Code block `{}`"
   ]
  },
  {
   "cell_type": "markdown",
   "id": "f274c72f",
   "metadata": {},
   "source": [
    "### Data Type\n",
    "\n",
    "* Dynamic($\\sim$ python)\n",
    "\n",
    "* Literal\n",
    "    * number\n",
    "    * string\n",
    "        ```javascript\n",
    "        name=\"김영수\"\n",
    "        age=\"20\"\n",
    "        `이름 : ${name}\n",
    "        나이: ${age}`\n",
    "    * boolean\n",
    "    * null\n",
    "    * undefined\n",
    "* Object\n",
    "    * object\n",
    "    * array\n",
    "    * function\n",
    "* `typeof` operator($\\sim$ `type(value)` of python)\n",
    "    * `typeof` value; `typeof` variable;"
   ]
  },
  {
   "cell_type": "markdown",
   "id": "76408088",
   "metadata": {},
   "source": [
    "### Variable\n",
    "\n",
    "* `var VarName [= value]`, **`let VarName [= value]`**, `const VarName = value`\n",
    "\n",
    "* `var`: wherever. Global Variable\n",
    "\n",
    "* `let`: block scope\n",
    "\n",
    "* `const`: Constant Value. block scope. No modificaiton allowed in the block."
   ]
  },
  {
   "cell_type": "markdown",
   "id": "6896dfb5",
   "metadata": {
    "vscode": {
     "languageId": "plaintext"
    }
   },
   "source": [
    "#### Naming\n",
    "\n",
    "* alphanumeric + `$` + `_`\n",
    "\n",
    "* no numeric for the first letter\n",
    "\n",
    "* no keywords\n",
    "\n",
    "* camelCase"
   ]
  },
  {
   "cell_type": "markdown",
   "id": "3f34d8b2",
   "metadata": {},
   "source": []
  }
 ],
 "metadata": {
  "language_info": {
   "name": "python"
  }
 },
 "nbformat": 4,
 "nbformat_minor": 5
}
